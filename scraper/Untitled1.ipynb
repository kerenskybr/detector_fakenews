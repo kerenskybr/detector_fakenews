{
 "cells": [
  {
   "cell_type": "code",
   "execution_count": 1,
   "metadata": {},
   "outputs": [],
   "source": [
    "import pandas as pd\n",
    "import numpy as np"
   ]
  },
  {
   "cell_type": "code",
   "execution_count": 96,
   "metadata": {},
   "outputs": [],
   "source": [
    "falsa = pd.read_csv(r'/home/roger/Documents/detector_fakenews/scraper/noticia_falsa/csv_novo/boatos.org.csv')\n",
    "\n",
    "ciencia = pd.read_csv(r'/home/roger/Documents/detector_fakenews/scraper/noticia_verdadeira/csv_novo/ciencia.csv') \n",
    "cultura = pd.read_csv(r'/home/roger/Documents/detector_fakenews/scraper/noticia_verdadeira/csv_novo/cultura.csv')\n",
    "economia = pd.read_csv(r'/home/roger/Documents/detector_fakenews/scraper/noticia_verdadeira/csv_novo/economia.csv')\n",
    "esportes = pd.read_csv(r'/home/roger/Documents/detector_fakenews/scraper/noticia_verdadeira/csv_novo/esportes.csv')\n",
    "estilo = pd.read_csv(r'/home/roger/Documents/detector_fakenews/scraper/noticia_verdadeira/csv_novo/estilo.csv')\n",
    "internacional = pd.read_csv(r'/home/roger/Documents/detector_fakenews/scraper/noticia_verdadeira/csv_novo/internacional.csv')\n",
    "politica = pd.read_csv(r'/home/roger/Documents/detector_fakenews/scraper/noticia_verdadeira/csv_novo/politica.csv')\n",
    "tecnologia = pd.read_csv(r'/home/roger/Documents/detector_fakenews/scraper/noticia_verdadeira/csv_novo/tecnologia.csv')\n",
    "\n",
    "verdadeira = pd.concat([ciencia, cultura, economia, esportes, estilo, internacional, politica, tecnologia])\n",
    "\n",
    "verdadeira = verdadeira.drop(columns=['id', 'titulo', 'url'])\n",
    "\n",
    "falsa = falsa.drop(columns=['id', 'link', 'timestamp'])"
   ]
  },
  {
   "cell_type": "code",
   "execution_count": 97,
   "metadata": {},
   "outputs": [
    {
     "data": {
      "text/plain": [
       "(3185, 1)"
      ]
     },
     "execution_count": 97,
     "metadata": {},
     "output_type": "execute_result"
    }
   ],
   "source": [
    "verdadeira.shape"
   ]
  },
  {
   "cell_type": "code",
   "execution_count": 98,
   "metadata": {},
   "outputs": [
    {
     "data": {
      "text/plain": [
       "(1374, 1)"
      ]
     },
     "execution_count": 98,
     "metadata": {},
     "output_type": "execute_result"
    }
   ],
   "source": [
    "falsa.shape"
   ]
  },
  {
   "cell_type": "code",
   "execution_count": 99,
   "metadata": {},
   "outputs": [],
   "source": [
    "#Removendo números do dataframe\n",
    "\n",
    "verdadeira['corpo'] = verdadeira['corpo'].str.replace(r'\\d+','')\n",
    "\n",
    "falsa['corpo'] = falsa['corpo'].str.replace(r'\\d+', '')"
   ]
  },
  {
   "cell_type": "code",
   "execution_count": 100,
   "metadata": {},
   "outputs": [],
   "source": [
    "#Transformando letras todas para minúsculas\n",
    "verdadeira['corpo'] = verdadeira['corpo'].str.lower()\n",
    "\n",
    "falsa['corpo'] = falsa['corpo'].str.lower()"
   ]
  },
  {
   "cell_type": "code",
   "execution_count": 104,
   "metadata": {},
   "outputs": [],
   "source": [
    "#removendo ruídos\n",
    "verdadeira['corpo'] = verdadeira['corpo'].str.replace('(){$%[^\\w\\s]','')\n",
    "\n",
    "falsa['corpo'] = falsa['corpo'].str.replace('(){$%[^\\w\\s]','')"
   ]
  },
  {
   "cell_type": "code",
   "execution_count": 105,
   "metadata": {},
   "outputs": [],
   "source": [
    "#Mantendo apenas os 100 primeiros caracteres\n",
    "verdadeira['corpo'] = verdadeira['corpo'].map(lambda x: str(x)[:1000])"
   ]
  },
  {
   "cell_type": "code",
   "execution_count": 106,
   "metadata": {},
   "outputs": [
    {
     "data": {
      "text/plain": [
       "(3185, 1)"
      ]
     },
     "execution_count": 106,
     "metadata": {},
     "output_type": "execute_result"
    }
   ],
   "source": [
    "verdadeira.shape\n"
   ]
  },
  {
   "cell_type": "code",
   "execution_count": 107,
   "metadata": {},
   "outputs": [
    {
     "data": {
      "text/plain": [
       "(1374, 1)"
      ]
     },
     "execution_count": 107,
     "metadata": {},
     "output_type": "execute_result"
    }
   ],
   "source": [
    "falsa.shape"
   ]
  },
  {
   "cell_type": "code",
   "execution_count": 108,
   "metadata": {},
   "outputs": [],
   "source": [
    "#Aleatorizando as linhas, para que os assuntos se misturem\n",
    "verdadeira.sort_values(by='corpo', inplace=True)\n"
   ]
  },
  {
   "cell_type": "code",
   "execution_count": 109,
   "metadata": {},
   "outputs": [],
   "source": [
    "#Criando um novo indice apos randomizar as linhas\n",
    "verdadeira.reset_index(drop=True, inplace=True)"
   ]
  },
  {
   "cell_type": "code",
   "execution_count": 110,
   "metadata": {},
   "outputs": [
    {
     "data": {
      "text/html": [
       "<div>\n",
       "<style scoped>\n",
       "    .dataframe tbody tr th:only-of-type {\n",
       "        vertical-align: middle;\n",
       "    }\n",
       "\n",
       "    .dataframe tbody tr th {\n",
       "        vertical-align: top;\n",
       "    }\n",
       "\n",
       "    .dataframe thead th {\n",
       "        text-align: right;\n",
       "    }\n",
       "</style>\n",
       "<table border=\"1\" class=\"dataframe\">\n",
       "  <thead>\n",
       "    <tr style=\"text-align: right;\">\n",
       "      <th></th>\n",
       "      <th>corpo</th>\n",
       "    </tr>\n",
       "  </thead>\n",
       "  <tbody>\n",
       "    <tr>\n",
       "      <th>0</th>\n",
       "      <td>anos da ovelha dolly: por que os clones morre...</td>\n",
       "    </tr>\n",
       "    <tr>\n",
       "      <th>1</th>\n",
       "      <td>as atrizes gaia girace (lila) e margherita ma...</td>\n",
       "    </tr>\n",
       "    <tr>\n",
       "      <th>2</th>\n",
       "      <td>coisas que fazem você se tornar gay (ou assim...</td>\n",
       "    </tr>\n",
       "    <tr>\n",
       "      <th>3</th>\n",
       "      <td>edgar su samsung interrompe a produção do gal...</td>\n",
       "    </tr>\n",
       "    <tr>\n",
       "      <th>4</th>\n",
       "      <td>edgar su samsung interrompe a produção do gal...</td>\n",
       "    </tr>\n",
       "    <tr>\n",
       "      <th>5</th>\n",
       "      <td>em busca do celular perdidoperder o celular é...</td>\n",
       "    </tr>\n",
       "    <tr>\n",
       "      <th>6</th>\n",
       "      <td>foi o ano mais quente de que se tem registroa...</td>\n",
       "    </tr>\n",
       "    <tr>\n",
       "      <th>7</th>\n",
       "      <td>horas sem “zap-zap”: brasileiros buscam alter...</td>\n",
       "    </tr>\n",
       "    <tr>\n",
       "      <th>8</th>\n",
       "      <td>horas,  transplantes: história de um recorde ...</td>\n",
       "    </tr>\n",
       "    <tr>\n",
       "      <th>9</th>\n",
       "      <td>jens meyer apacionistas exigem , bilhões de r...</td>\n",
       "    </tr>\n",
       "  </tbody>\n",
       "</table>\n",
       "</div>"
      ],
      "text/plain": [
       "                                               corpo\n",
       "0   anos da ovelha dolly: por que os clones morre...\n",
       "1   as atrizes gaia girace (lila) e margherita ma...\n",
       "2   coisas que fazem você se tornar gay (ou assim...\n",
       "3   edgar su samsung interrompe a produção do gal...\n",
       "4   edgar su samsung interrompe a produção do gal...\n",
       "5   em busca do celular perdidoperder o celular é...\n",
       "6   foi o ano mais quente de que se tem registroa...\n",
       "7   horas sem “zap-zap”: brasileiros buscam alter...\n",
       "8   horas,  transplantes: história de um recorde ...\n",
       "9   jens meyer apacionistas exigem , bilhões de r..."
      ]
     },
     "execution_count": 110,
     "metadata": {},
     "output_type": "execute_result"
    }
   ],
   "source": [
    "verdadeira.head(10)"
   ]
  },
  {
   "cell_type": "code",
   "execution_count": 55,
   "metadata": {},
   "outputs": [
    {
     "data": {
      "text/plain": [
       "(3185, 1)"
      ]
     },
     "execution_count": 55,
     "metadata": {},
     "output_type": "execute_result"
    }
   ],
   "source": []
  },
  {
   "cell_type": "code",
   "execution_count": 111,
   "metadata": {},
   "outputs": [],
   "source": [
    "verdadeira_droped = verdadeira.drop(verdadeira.index[1374:])\n"
   ]
  },
  {
   "cell_type": "code",
   "execution_count": 112,
   "metadata": {},
   "outputs": [
    {
     "data": {
      "text/plain": [
       "(1374, 1)"
      ]
     },
     "execution_count": 112,
     "metadata": {},
     "output_type": "execute_result"
    }
   ],
   "source": [
    "verdadeira_droped.shape"
   ]
  },
  {
   "cell_type": "code",
   "execution_count": 113,
   "metadata": {},
   "outputs": [
    {
     "data": {
      "text/plain": [
       "(1374, 1)"
      ]
     },
     "execution_count": 113,
     "metadata": {},
     "output_type": "execute_result"
    }
   ],
   "source": [
    "falsa.shape"
   ]
  },
  {
   "cell_type": "code",
   "execution_count": 114,
   "metadata": {},
   "outputs": [
    {
     "data": {
      "text/plain": [
       "False"
      ]
     },
     "execution_count": 114,
     "metadata": {},
     "output_type": "execute_result"
    }
   ],
   "source": [
    "verdadeira_droped.isnull().values.any()"
   ]
  },
  {
   "cell_type": "code",
   "execution_count": 115,
   "metadata": {},
   "outputs": [
    {
     "data": {
      "text/plain": [
       "False"
      ]
     },
     "execution_count": 115,
     "metadata": {},
     "output_type": "execute_result"
    }
   ],
   "source": [
    "falsa.isnull().values.any()"
   ]
  },
  {
   "cell_type": "code",
   "execution_count": 19,
   "metadata": {},
   "outputs": [],
   "source": [
    "import matplotlib.pyplot as plt \n",
    "\n",
    "from sklearn import preprocessing\n",
    "from sklearn.feature_extraction.text import CountVectorizer as count_vect\n",
    "from sklearn.model_selection import train_test_split\n",
    "from sklearn.feature_extraction.text import TfidfVectorizer\n",
    "from sklearn.linear_model import LogisticRegression\n",
    "from sklearn.naive_bayes import MultinomialNB\n",
    "from sklearn import svm\n",
    "from sklearn.externals import joblib\n",
    "\n",
    "import nltk"
   ]
  },
  {
   "cell_type": "code",
   "execution_count": 116,
   "metadata": {},
   "outputs": [],
   "source": [
    "label_encoder = preprocessing.LabelEncoder()\n"
   ]
  },
  {
   "cell_type": "code",
   "execution_count": 117,
   "metadata": {},
   "outputs": [
    {
     "data": {
      "text/plain": [
       "(1374, 1)"
      ]
     },
     "execution_count": 117,
     "metadata": {},
     "output_type": "execute_result"
    }
   ],
   "source": [
    "verdadeira_droped.shape"
   ]
  },
  {
   "cell_type": "code",
   "execution_count": 118,
   "metadata": {},
   "outputs": [],
   "source": [
    "verda = verdadeira_droped.fillna(' ')"
   ]
  },
  {
   "cell_type": "code",
   "execution_count": 119,
   "metadata": {},
   "outputs": [
    {
     "data": {
      "text/plain": [
       "(1374, 1)"
      ]
     },
     "execution_count": 119,
     "metadata": {},
     "output_type": "execute_result"
    }
   ],
   "source": [
    "verda.shape"
   ]
  },
  {
   "cell_type": "code",
   "execution_count": 120,
   "metadata": {},
   "outputs": [],
   "source": [
    "falsa['label'] = 1\n"
   ]
  },
  {
   "cell_type": "code",
   "execution_count": 121,
   "metadata": {},
   "outputs": [],
   "source": [
    "verda['label'] = 0"
   ]
  },
  {
   "cell_type": "code",
   "execution_count": 122,
   "metadata": {},
   "outputs": [
    {
     "data": {
      "text/plain": [
       "(1374, 2)"
      ]
     },
     "execution_count": 122,
     "metadata": {},
     "output_type": "execute_result"
    }
   ],
   "source": [
    "verda.shape"
   ]
  },
  {
   "cell_type": "code",
   "execution_count": 123,
   "metadata": {},
   "outputs": [
    {
     "data": {
      "text/plain": [
       "(1374, 2)"
      ]
     },
     "execution_count": 123,
     "metadata": {},
     "output_type": "execute_result"
    }
   ],
   "source": [
    "falsa.shape"
   ]
  },
  {
   "cell_type": "code",
   "execution_count": 128,
   "metadata": {},
   "outputs": [],
   "source": [
    "dados = pd.concat([verda,falsa], axis=0)\n",
    "\n",
    "#y = label_encoder.fit_transform(dados.label.values)\n",
    "#x = dados.corpo.values"
   ]
  },
  {
   "cell_type": "code",
   "execution_count": 130,
   "metadata": {},
   "outputs": [
    {
     "data": {
      "text/html": [
       "<div>\n",
       "<style scoped>\n",
       "    .dataframe tbody tr th:only-of-type {\n",
       "        vertical-align: middle;\n",
       "    }\n",
       "\n",
       "    .dataframe tbody tr th {\n",
       "        vertical-align: top;\n",
       "    }\n",
       "\n",
       "    .dataframe thead th {\n",
       "        text-align: right;\n",
       "    }\n",
       "</style>\n",
       "<table border=\"1\" class=\"dataframe\">\n",
       "  <thead>\n",
       "    <tr style=\"text-align: right;\">\n",
       "      <th></th>\n",
       "      <th>corpo</th>\n",
       "      <th>label</th>\n",
       "    </tr>\n",
       "  </thead>\n",
       "  <tbody>\n",
       "    <tr>\n",
       "      <th>0</th>\n",
       "      <td>anos da ovelha dolly: por que os clones morre...</td>\n",
       "      <td>0</td>\n",
       "    </tr>\n",
       "    <tr>\n",
       "      <th>1</th>\n",
       "      <td>as atrizes gaia girace (lila) e margherita ma...</td>\n",
       "      <td>0</td>\n",
       "    </tr>\n",
       "    <tr>\n",
       "      <th>2</th>\n",
       "      <td>coisas que fazem você se tornar gay (ou assim...</td>\n",
       "      <td>0</td>\n",
       "    </tr>\n",
       "    <tr>\n",
       "      <th>3</th>\n",
       "      <td>edgar su samsung interrompe a produção do gal...</td>\n",
       "      <td>0</td>\n",
       "    </tr>\n",
       "    <tr>\n",
       "      <th>4</th>\n",
       "      <td>edgar su samsung interrompe a produção do gal...</td>\n",
       "      <td>0</td>\n",
       "    </tr>\n",
       "    <tr>\n",
       "      <th>5</th>\n",
       "      <td>em busca do celular perdidoperder o celular é...</td>\n",
       "      <td>0</td>\n",
       "    </tr>\n",
       "    <tr>\n",
       "      <th>6</th>\n",
       "      <td>foi o ano mais quente de que se tem registroa...</td>\n",
       "      <td>0</td>\n",
       "    </tr>\n",
       "    <tr>\n",
       "      <th>7</th>\n",
       "      <td>horas sem “zap-zap”: brasileiros buscam alter...</td>\n",
       "      <td>0</td>\n",
       "    </tr>\n",
       "    <tr>\n",
       "      <th>8</th>\n",
       "      <td>horas,  transplantes: história de um recorde ...</td>\n",
       "      <td>0</td>\n",
       "    </tr>\n",
       "    <tr>\n",
       "      <th>9</th>\n",
       "      <td>jens meyer apacionistas exigem , bilhões de r...</td>\n",
       "      <td>0</td>\n",
       "    </tr>\n",
       "    <tr>\n",
       "      <th>10</th>\n",
       "      <td>mitos clássicos em que continuamos acreditand...</td>\n",
       "      <td>0</td>\n",
       "    </tr>\n",
       "    <tr>\n",
       "      <th>11</th>\n",
       "      <td>muralha da cidadela de kuelap  shutterstockvi...</td>\n",
       "      <td>0</td>\n",
       "    </tr>\n",
       "    <tr>\n",
       "      <th>12</th>\n",
       "      <td>oliveiras dubes sonego jr. na crise, cenário ...</td>\n",
       "      <td>0</td>\n",
       "    </tr>\n",
       "    <tr>\n",
       "      <th>13</th>\n",
       "      <td>sinais de que você tem um ‘cãofilho’lares bra...</td>\n",
       "      <td>0</td>\n",
       "    </tr>\n",
       "    <tr>\n",
       "      <th>14</th>\n",
       "      <td>viagens para viciados em chocolatequanto choc...</td>\n",
       "      <td>0</td>\n",
       "    </tr>\n",
       "    <tr>\n",
       "      <th>15</th>\n",
       "      <td>viagens para viciados em chocolatequanto choc...</td>\n",
       "      <td>0</td>\n",
       "    </tr>\n",
       "    <tr>\n",
       "      <th>16</th>\n",
       "      <td>yann coatsaliou afpharvey weinstein, a histór...</td>\n",
       "      <td>0</td>\n",
       "    </tr>\n",
       "    <tr>\n",
       "      <th>17</th>\n",
       "      <td>órbita elíptica do cometa halley. o círculo a...</td>\n",
       "      <td>0</td>\n",
       "    </tr>\n",
       "    <tr>\n",
       "      <th>18</th>\n",
       "      <td>\"a insatisfação é total. estou cansada de que ...</td>\n",
       "      <td>0</td>\n",
       "    </tr>\n",
       "    <tr>\n",
       "      <th>19</th>\n",
       "      <td>\"a seleção que despreza sua gente\", por breill...</td>\n",
       "      <td>0</td>\n",
       "    </tr>\n",
       "    <tr>\n",
       "      <th>20</th>\n",
       "      <td>\"devido à interrupção do serviço que o google ...</td>\n",
       "      <td>0</td>\n",
       "    </tr>\n",
       "    <tr>\n",
       "      <th>21</th>\n",
       "      <td>\"esta é uma história que contei tantas vezes q...</td>\n",
       "      <td>0</td>\n",
       "    </tr>\n",
       "    <tr>\n",
       "      <th>22</th>\n",
       "      <td>\"esta é uma história que contei tantas vezes q...</td>\n",
       "      <td>0</td>\n",
       "    </tr>\n",
       "    <tr>\n",
       "      <th>23</th>\n",
       "      <td>\"este novo momento mina a confiança de empresá...</td>\n",
       "      <td>0</td>\n",
       "    </tr>\n",
       "    <tr>\n",
       "      <th>24</th>\n",
       "      <td>\"este novo momento mina a confiança de empresá...</td>\n",
       "      <td>0</td>\n",
       "    </tr>\n",
       "    <tr>\n",
       "      <th>25</th>\n",
       "      <td>\"eu esperava poder seguir comandando o huffpos...</td>\n",
       "      <td>0</td>\n",
       "    </tr>\n",
       "    <tr>\n",
       "      <th>26</th>\n",
       "      <td>\"indivíduos com claros papéis na sociedade (po...</td>\n",
       "      <td>0</td>\n",
       "    </tr>\n",
       "    <tr>\n",
       "      <th>27</th>\n",
       "      <td>\"messidependência? sim, obrigado\", por rafa ca...</td>\n",
       "      <td>0</td>\n",
       "    </tr>\n",
       "    <tr>\n",
       "      <th>28</th>\n",
       "      <td>\"messidependência? sim, obrigado\", por rafa ca...</td>\n",
       "      <td>0</td>\n",
       "    </tr>\n",
       "    <tr>\n",
       "      <th>29</th>\n",
       "      <td>\"nestas festas, mais de  milhões de pessoas, d...</td>\n",
       "      <td>0</td>\n",
       "    </tr>\n",
       "    <tr>\n",
       "      <th>...</th>\n",
       "      <td>...</td>\n",
       "      <td>...</td>\n",
       "    </tr>\n",
       "    <tr>\n",
       "      <th>1344</th>\n",
       "      <td>saiu o parecer técnico dos tiros que causaram...</td>\n",
       "      <td>1</td>\n",
       "    </tr>\n",
       "    <tr>\n",
       "      <th>1345</th>\n",
       "      <td>pink floyd anuncia nova turnê, com shows no b...</td>\n",
       "      <td>1</td>\n",
       "    </tr>\n",
       "    <tr>\n",
       "      <th>1346</th>\n",
       "      <td>descoberta a fraude da operação lava jato! j...</td>\n",
       "      <td>1</td>\n",
       "    </tr>\n",
       "    <tr>\n",
       "      <th>1347</th>\n",
       "      <td>o ex-presidente josé mujica morre em um hospi...</td>\n",
       "      <td>1</td>\n",
       "    </tr>\n",
       "    <tr>\n",
       "      <th>1348</th>\n",
       "      <td>enquanto a mamãe cabral é solta pra cuidar d...</td>\n",
       "      <td>1</td>\n",
       "    </tr>\n",
       "    <tr>\n",
       "      <th>1349</th>\n",
       "      <td>minha gente. divulgue nos grupo porque isso é...</td>\n",
       "      <td>1</td>\n",
       "    </tr>\n",
       "    <tr>\n",
       "      <th>1350</th>\n",
       "      <td>ovni é avistado na represa bortolan. contato ...</td>\n",
       "      <td>1</td>\n",
       "    </tr>\n",
       "    <tr>\n",
       "      <th>1351</th>\n",
       "      <td>essa é a juíza maria thereza de assis moura,...</td>\n",
       "      <td>1</td>\n",
       "    </tr>\n",
       "    <tr>\n",
       "      <th>1352</th>\n",
       "      <td>morre juan pablo montoya ex-piloto de f juan p...</td>\n",
       "      <td>1</td>\n",
       "    </tr>\n",
       "    <tr>\n",
       "      <th>1353</th>\n",
       "      <td>meu amigo tomaz edson é um engenheiro em perm...</td>\n",
       "      <td>1</td>\n",
       "    </tr>\n",
       "    <tr>\n",
       "      <th>1354</th>\n",
       "      <td>guerra civil acaba de ser declarada no brasil ...</td>\n",
       "      <td>1</td>\n",
       "    </tr>\n",
       "    <tr>\n",
       "      <th>1355</th>\n",
       "      <td>vale-presente grátis de r$  da o boticário: ...</td>\n",
       "      <td>1</td>\n",
       "    </tr>\n",
       "    <tr>\n",
       "      <th>1356</th>\n",
       "      <td>o conselho tutelar da cidade de campestre, no ...</td>\n",
       "      <td>1</td>\n",
       "    </tr>\n",
       "    <tr>\n",
       "      <th>1357</th>\n",
       "      <td>pf: operação em cervejarias na bahia: hoje p...</td>\n",
       "      <td>1</td>\n",
       "    </tr>\n",
       "    <tr>\n",
       "      <th>1358</th>\n",
       "      <td>leia isto : projeto de emenda à constituiçã...</td>\n",
       "      <td>1</td>\n",
       "    </tr>\n",
       "    <tr>\n",
       "      <th>1359</th>\n",
       "      <td>mais um acidente fatal. taxista que falou que ...</td>\n",
       "      <td>1</td>\n",
       "    </tr>\n",
       "    <tr>\n",
       "      <th>1360</th>\n",
       "      <td>conselho tutelar pede a prisão de pai que gra...</td>\n",
       "      <td>1</td>\n",
       "    </tr>\n",
       "    <tr>\n",
       "      <th>1361</th>\n",
       "      <td>depois do dr. áuzio varella me deparo com iss...</td>\n",
       "      <td>1</td>\n",
       "    </tr>\n",
       "    <tr>\n",
       "      <th>1362</th>\n",
       "      <td>versão : homem acaba de pular do o andar do c...</td>\n",
       "      <td>1</td>\n",
       "    </tr>\n",
       "    <tr>\n",
       "      <th>1363</th>\n",
       "      <td>o jornal o globo de hoje notícia que joaquim ...</td>\n",
       "      <td>1</td>\n",
       "    </tr>\n",
       "    <tr>\n",
       "      <th>1364</th>\n",
       "      <td>meninas, boa tarde. estava aqui em casa escuta...</td>\n",
       "      <td>1</td>\n",
       "    </tr>\n",
       "    <tr>\n",
       "      <th>1365</th>\n",
       "      <td>benefícios da água morna:  um grupo de médi...</td>\n",
       "      <td>1</td>\n",
       "    </tr>\n",
       "    <tr>\n",
       "      <th>1366</th>\n",
       "      <td>congresso aprova a lei da destruição do celu...</td>\n",
       "      <td>1</td>\n",
       "    </tr>\n",
       "    <tr>\n",
       "      <th>1367</th>\n",
       "      <td>frutas com a etiqueta número  são transgêni...</td>\n",
       "      <td>1</td>\n",
       "    </tr>\n",
       "    <tr>\n",
       "      <th>1368</th>\n",
       "      <td>pedimos que você leia o texto até o final. n...</td>\n",
       "      <td>1</td>\n",
       "    </tr>\n",
       "    <tr>\n",
       "      <th>1369</th>\n",
       "      <td>direitos humanos pedem soltura de adolescentes...</td>\n",
       "      <td>1</td>\n",
       "    </tr>\n",
       "    <tr>\n",
       "      <th>1370</th>\n",
       "      <td>gente, a vigilância sanitária e a pm acabou ...</td>\n",
       "      <td>1</td>\n",
       "    </tr>\n",
       "    <tr>\n",
       "      <th>1371</th>\n",
       "      <td>vc que gosta de tirar foto com red bull, que f...</td>\n",
       "      <td>1</td>\n",
       "    </tr>\n",
       "    <tr>\n",
       "      <th>1372</th>\n",
       "      <td>quem trabalhou com carteira assinada entre os ...</td>\n",
       "      <td>1</td>\n",
       "    </tr>\n",
       "    <tr>\n",
       "      <th>1373</th>\n",
       "      <td>‘fiquem alerta: fiquem todos atentos a este ho...</td>\n",
       "      <td>1</td>\n",
       "    </tr>\n",
       "  </tbody>\n",
       "</table>\n",
       "<p>2748 rows × 2 columns</p>\n",
       "</div>"
      ],
      "text/plain": [
       "                                                  corpo  label\n",
       "0      anos da ovelha dolly: por que os clones morre...      0\n",
       "1      as atrizes gaia girace (lila) e margherita ma...      0\n",
       "2      coisas que fazem você se tornar gay (ou assim...      0\n",
       "3      edgar su samsung interrompe a produção do gal...      0\n",
       "4      edgar su samsung interrompe a produção do gal...      0\n",
       "5      em busca do celular perdidoperder o celular é...      0\n",
       "6      foi o ano mais quente de que se tem registroa...      0\n",
       "7      horas sem “zap-zap”: brasileiros buscam alter...      0\n",
       "8      horas,  transplantes: história de um recorde ...      0\n",
       "9      jens meyer apacionistas exigem , bilhões de r...      0\n",
       "10     mitos clássicos em que continuamos acreditand...      0\n",
       "11     muralha da cidadela de kuelap  shutterstockvi...      0\n",
       "12     oliveiras dubes sonego jr. na crise, cenário ...      0\n",
       "13     sinais de que você tem um ‘cãofilho’lares bra...      0\n",
       "14     viagens para viciados em chocolatequanto choc...      0\n",
       "15     viagens para viciados em chocolatequanto choc...      0\n",
       "16     yann coatsaliou afpharvey weinstein, a histór...      0\n",
       "17     órbita elíptica do cometa halley. o círculo a...      0\n",
       "18    \"a insatisfação é total. estou cansada de que ...      0\n",
       "19    \"a seleção que despreza sua gente\", por breill...      0\n",
       "20    \"devido à interrupção do serviço que o google ...      0\n",
       "21    \"esta é uma história que contei tantas vezes q...      0\n",
       "22    \"esta é uma história que contei tantas vezes q...      0\n",
       "23    \"este novo momento mina a confiança de empresá...      0\n",
       "24    \"este novo momento mina a confiança de empresá...      0\n",
       "25    \"eu esperava poder seguir comandando o huffpos...      0\n",
       "26    \"indivíduos com claros papéis na sociedade (po...      0\n",
       "27    \"messidependência? sim, obrigado\", por rafa ca...      0\n",
       "28    \"messidependência? sim, obrigado\", por rafa ca...      0\n",
       "29    \"nestas festas, mais de  milhões de pessoas, d...      0\n",
       "...                                                 ...    ...\n",
       "1344  saiu o parecer técnico dos tiros que causaram...      1\n",
       "1345  pink floyd anuncia nova turnê, com shows no b...      1\n",
       "1346  descoberta a fraude da operação lava jato! j...      1\n",
       "1347  o ex-presidente josé mujica morre em um hospi...      1\n",
       "1348  enquanto a mamãe cabral é solta pra cuidar d...      1\n",
       "1349  minha gente. divulgue nos grupo porque isso é...      1\n",
       "1350  ovni é avistado na represa bortolan. contato ...      1\n",
       "1351  essa é a juíza maria thereza de assis moura,...      1\n",
       "1352  morre juan pablo montoya ex-piloto de f juan p...      1\n",
       "1353  meu amigo tomaz edson é um engenheiro em perm...      1\n",
       "1354  guerra civil acaba de ser declarada no brasil ...      1\n",
       "1355  vale-presente grátis de r$  da o boticário: ...      1\n",
       "1356  o conselho tutelar da cidade de campestre, no ...      1\n",
       "1357  pf: operação em cervejarias na bahia: hoje p...      1\n",
       "1358  leia isto : projeto de emenda à constituiçã...      1\n",
       "1359  mais um acidente fatal. taxista que falou que ...      1\n",
       "1360  conselho tutelar pede a prisão de pai que gra...      1\n",
       "1361  depois do dr. áuzio varella me deparo com iss...      1\n",
       "1362  versão : homem acaba de pular do o andar do c...      1\n",
       "1363  o jornal o globo de hoje notícia que joaquim ...      1\n",
       "1364  meninas, boa tarde. estava aqui em casa escuta...      1\n",
       "1365  benefícios da água morna:  um grupo de médi...      1\n",
       "1366  congresso aprova a lei da destruição do celu...      1\n",
       "1367  frutas com a etiqueta número  são transgêni...      1\n",
       "1368  pedimos que você leia o texto até o final. n...      1\n",
       "1369  direitos humanos pedem soltura de adolescentes...      1\n",
       "1370  gente, a vigilância sanitária e a pm acabou ...      1\n",
       "1371  vc que gosta de tirar foto com red bull, que f...      1\n",
       "1372  quem trabalhou com carteira assinada entre os ...      1\n",
       "1373  ‘fiquem alerta: fiquem todos atentos a este ho...      1\n",
       "\n",
       "[2748 rows x 2 columns]"
      ]
     },
     "execution_count": 130,
     "metadata": {},
     "output_type": "execute_result"
    }
   ],
   "source": [
    "dados"
   ]
  },
  {
   "cell_type": "code",
   "execution_count": 132,
   "metadata": {},
   "outputs": [],
   "source": [
    "y = label_encoder.fit_transform(dados.label.values)\n",
    "x = dados.corpo.values"
   ]
  },
  {
   "cell_type": "code",
   "execution_count": 133,
   "metadata": {},
   "outputs": [],
   "source": [
    "x_train, x_test, y_train, y_test = train_test_split(x, y, random_state=43, test_size=.33, stratify=y)\n"
   ]
  },
  {
   "cell_type": "code",
   "execution_count": 134,
   "metadata": {},
   "outputs": [
    {
     "name": "stdout",
     "output_type": "stream",
     "text": [
      "[nltk_data] Downloading package stopwords to /home/roger/nltk_data...\n",
      "[nltk_data]   Package stopwords is already up-to-date!\n"
     ]
    },
    {
     "data": {
      "text/plain": [
       "True"
      ]
     },
     "execution_count": 134,
     "metadata": {},
     "output_type": "execute_result"
    }
   ],
   "source": [
    "nltk.download('stopwords')"
   ]
  },
  {
   "cell_type": "code",
   "execution_count": 135,
   "metadata": {},
   "outputs": [],
   "source": [
    "pt_stopwords = set(nltk.corpus.stopwords.words('portuguese'))\n",
    "\n",
    "tfidf = TfidfVectorizer(min_df = 3, strip_accents = 'unicode', max_features = 3000,\n",
    "                        analyzer = 'word', token_pattern = '\\w{1,}',\n",
    "                        ngram_range = (1,3), sublinear_tf = 1, encoding='utf-8', stop_words = pt_stopwords)\n",
    "\n"
   ]
  },
  {
   "cell_type": "code",
   "execution_count": 136,
   "metadata": {},
   "outputs": [],
   "source": [
    "x_train_tfidf = tfidf.fit_transform(x_train)\n",
    "x_test_tfidf = tfidf.transform(x_test)"
   ]
  },
  {
   "cell_type": "code",
   "execution_count": 137,
   "metadata": {},
   "outputs": [],
   "source": [
    "classificador = LogisticRegression()\n",
    "classificador.fit(x_train_tfidf, y_train)\n",
    "\n",
    "preditor_lr = classificador.predict_proba(x_test_tfidf)"
   ]
  },
  {
   "cell_type": "code",
   "execution_count": 139,
   "metadata": {},
   "outputs": [
    {
     "name": "stdout",
     "output_type": "stream",
     "text": [
      "Acuracia do modelo Regressão Logística:  99.7794928335171\n"
     ]
    }
   ],
   "source": [
    "print('Acuracia do modelo Regressão Logística: ',classificador.score(x_test_tfidf, y_test)*100)"
   ]
  },
  {
   "cell_type": "code",
   "execution_count": 147,
   "metadata": {},
   "outputs": [
    {
     "name": "stdout",
     "output_type": "stream",
     "text": [
      "Acuracia do modelo Naive Bayes:  99.55898566703418\n"
     ]
    }
   ],
   "source": [
    "clf = MultinomialNB().fit(x_train_tfidf,y_train)\n",
    "\n",
    "preditor_nb = clf.predict(x_test_tfidf)\n",
    "\n",
    "print('Acuracia do modelo Naive Bayes: ',np.mean(preditor_nb == y_test)*100)\n"
   ]
  },
  {
   "cell_type": "code",
   "execution_count": 141,
   "metadata": {},
   "outputs": [
    {
     "name": "stdout",
     "output_type": "stream",
     "text": [
      "Acuracia do modelo SVM:  0.4994487320837927\n"
     ]
    }
   ],
   "source": [
    "clf_svm = svm.SVC(gamma=0.001)\n",
    "clf_svm.fit(x_train_tfidf, y_train)\n",
    "\n",
    "clf_svm.predict(x_test_tfidf)\n",
    "\n",
    "print('Acuracia do modelo SVM: ', clf_svm.score(x_test_tfidf, y_test, sample_weight=None))\n",
    "\n"
   ]
  },
  {
   "cell_type": "code",
   "execution_count": 142,
   "metadata": {},
   "outputs": [],
   "source": [
    "from sklearn.linear_model import LinearRegression"
   ]
  },
  {
   "cell_type": "code",
   "execution_count": 143,
   "metadata": {},
   "outputs": [],
   "source": [
    "reg = LinearRegression().fit(x_train_tfidf, y_train)"
   ]
  },
  {
   "cell_type": "code",
   "execution_count": 146,
   "metadata": {},
   "outputs": [
    {
     "name": "stdout",
     "output_type": "stream",
     "text": [
      "Acuracia do modelo Regressao Linear:  99.99999999999433\n"
     ]
    }
   ],
   "source": [
    "print('Acuracia do modelo Regressao Linear: ', reg.score(x_train_tfidf, y_train)*100)"
   ]
  }
 ],
 "metadata": {
  "kernelspec": {
   "display_name": "Python 3",
   "language": "python",
   "name": "python3"
  },
  "language_info": {
   "codemirror_mode": {
    "name": "ipython",
    "version": 3
   },
   "file_extension": ".py",
   "mimetype": "text/x-python",
   "name": "python",
   "nbconvert_exporter": "python",
   "pygments_lexer": "ipython3",
   "version": "3.7.0"
  }
 },
 "nbformat": 4,
 "nbformat_minor": 2
}
